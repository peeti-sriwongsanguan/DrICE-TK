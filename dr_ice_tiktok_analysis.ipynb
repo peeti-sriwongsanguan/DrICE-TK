{
  "nbformat": 4,
  "nbformat_minor": 0,
  "metadata": {
    "colab": {
      "provenance": [],
      "authorship_tag": "ABX9TyOVnz3BUFAUCv2cnnhfJh6f",
      "include_colab_link": true
    },
    "kernelspec": {
      "name": "python3",
      "display_name": "Python 3"
    },
    "language_info": {
      "name": "python"
    }
  },
  "cells": [
    {
      "cell_type": "markdown",
      "metadata": {
        "id": "view-in-github",
        "colab_type": "text"
      },
      "source": [
        "<a href=\"https://colab.research.google.com/github/peeti-sriwongsanguan/DrICE-TK/blob/main/dr_ice_tiktok_analysis.ipynb\" target=\"_parent\"><img src=\"https://colab.research.google.com/assets/colab-badge.svg\" alt=\"Open In Colab\"/></a>"
      ]
    },
    {
      "cell_type": "code",
      "execution_count": 1,
      "metadata": {
        "colab": {
          "base_uri": "https://localhost:8080/"
        },
        "id": "5I-UZBUNV0dE",
        "outputId": "81c01cf0-4f7f-4a29-bbcd-a00f4063044c"
      },
      "outputs": [
        {
          "output_type": "stream",
          "name": "stdout",
          "text": [
            "Mounted at /content/drive\n"
          ]
        }
      ],
      "source": [
        "from google.colab import drive\n",
        "drive.mount('/content/drive')"
      ]
    },
    {
      "cell_type": "code",
      "source": [
        "%cd drive/MyDrive/Github/"
      ],
      "metadata": {
        "colab": {
          "base_uri": "https://localhost:8080/"
        },
        "id": "47LBFy1dWRIy",
        "outputId": "c9cf6a7b-4a96-4562-bfc6-49d38be97ed5"
      },
      "execution_count": 8,
      "outputs": [
        {
          "output_type": "stream",
          "name": "stdout",
          "text": [
            "/content/drive/MyDrive/Github\n"
          ]
        }
      ]
    },
    {
      "cell_type": "code",
      "source": [
        "mkdir DrICE-TK"
      ],
      "metadata": {
        "id": "twneDP_kWTrg"
      },
      "execution_count": 9,
      "outputs": []
    },
    {
      "cell_type": "markdown",
      "source": [
        "https://github.com/peeti-sriwongsanguan/DrICE-TK.git"
      ],
      "metadata": {
        "id": "FtQ-dsQsXxbX"
      }
    },
    {
      "cell_type": "code",
      "source": [
        "!git init\n",
        "!git config --global init.defaultBranch main\n",
        "!git branch -m main"
      ],
      "metadata": {
        "colab": {
          "base_uri": "https://localhost:8080/"
        },
        "id": "Oa8tytkXW9YD",
        "outputId": "c9029a7e-7ded-4086-dbeb-45ad6b42d0ab"
      },
      "execution_count": 73,
      "outputs": [
        {
          "output_type": "stream",
          "name": "stdout",
          "text": [
            "Reinitialized existing Git repository in /content/drive/MyDrive/Github/DrICE-TK/.git/\n"
          ]
        }
      ]
    },
    {
      "cell_type": "code",
      "source": [
        "!git init"
      ],
      "metadata": {
        "colab": {
          "base_uri": "https://localhost:8080/"
        },
        "id": "kDxhYIw7iRTo",
        "outputId": "0d8df1d1-7689-47ee-f72b-0b142bc10d4e"
      },
      "execution_count": 75,
      "outputs": [
        {
          "output_type": "stream",
          "name": "stdout",
          "text": [
            "Reinitialized existing Git repository in /content/drive/MyDrive/Github/DrICE-TK/.git/\n"
          ]
        }
      ]
    },
    {
      "cell_type": "code",
      "source": [
        "!git status"
      ],
      "metadata": {
        "colab": {
          "base_uri": "https://localhost:8080/"
        },
        "id": "vfziBQcEiT2A",
        "outputId": "76f7b76e-0dd8-4069-ab4f-a3622f6b18cb"
      },
      "execution_count": 76,
      "outputs": [
        {
          "output_type": "stream",
          "name": "stdout",
          "text": [
            "On branch main\n",
            "\n",
            "No commits yet\n",
            "\n",
            "nothing to commit (create/copy files and use \"git add\" to track)\n"
          ]
        }
      ]
    },
    {
      "cell_type": "code",
      "source": [
        "!git add ."
      ],
      "metadata": {
        "id": "ycYfZ1nMijut"
      },
      "execution_count": 77,
      "outputs": []
    },
    {
      "cell_type": "code",
      "source": [
        "!git commit -m \"Initial commit\"\n",
        "!git add ."
      ],
      "metadata": {
        "colab": {
          "base_uri": "https://localhost:8080/"
        },
        "id": "I_sH0YoQim9Z",
        "outputId": "df0e307b-b25f-4294-e990-2ebf2bfbcbb6"
      },
      "execution_count": 82,
      "outputs": [
        {
          "output_type": "stream",
          "name": "stdout",
          "text": [
            "On branch main\n",
            "\n",
            "Initial commit\n",
            "\n",
            "nothing to commit (create/copy files and use \"git add\" to track)\n"
          ]
        }
      ]
    },
    {
      "cell_type": "code",
      "source": [
        "!git push -u origin main"
      ],
      "metadata": {
        "colab": {
          "base_uri": "https://localhost:8080/"
        },
        "id": "C5HejZ8fjMqj",
        "outputId": "e6140da4-39a8-4507-d9a9-9ec5935bbe2d"
      },
      "execution_count": 83,
      "outputs": [
        {
          "output_type": "stream",
          "name": "stdout",
          "text": [
            "error: src refspec main does not match any\n",
            "\u001b[31merror: failed to push some refs to 'origin'\n",
            "\u001b[m"
          ]
        }
      ]
    },
    {
      "cell_type": "code",
      "source": [
        "!git config --global user.email \"peeti@berkeley.edu\"\n",
        "!git config --global user.name \"peeti\""
      ],
      "metadata": {
        "id": "2f350lccip4g"
      },
      "execution_count": 79,
      "outputs": []
    },
    {
      "cell_type": "code",
      "source": [
        "!git branch"
      ],
      "metadata": {
        "id": "LpyIrYoRi-jy"
      },
      "execution_count": 81,
      "outputs": []
    },
    {
      "cell_type": "code",
      "source": [
        "ls -a DrICE-TK/"
      ],
      "metadata": {
        "colab": {
          "base_uri": "https://localhost:8080/"
        },
        "id": "z1dR--BOXovP",
        "outputId": "a6b51c28-3bda-40c0-eb52-a6c3f06ca90e"
      },
      "execution_count": 14,
      "outputs": [
        {
          "output_type": "stream",
          "name": "stdout",
          "text": [
            "\u001b[0m\u001b[01;34m.git\u001b[0m/\n"
          ]
        }
      ]
    },
    {
      "cell_type": "code",
      "source": [
        "%cd DrICE-TK"
      ],
      "metadata": {
        "colab": {
          "base_uri": "https://localhost:8080/"
        },
        "id": "zW87IcluYukq",
        "outputId": "a5edf8cb-da61-4f67-d11e-b529cb1df375"
      },
      "execution_count": 19,
      "outputs": [
        {
          "output_type": "stream",
          "name": "stdout",
          "text": [
            "/content/drive/MyDrive/Github/DrICE-TK\n"
          ]
        }
      ]
    },
    {
      "cell_type": "code",
      "source": [
        "!git remote add main https://github.com/peeti-sriwongsanguan/DrICE-TK.git"
      ],
      "metadata": {
        "id": "R9OHAha_YDbJ"
      },
      "execution_count": 20,
      "outputs": []
    },
    {
      "cell_type": "code",
      "source": [
        "!git remote -v"
      ],
      "metadata": {
        "colab": {
          "base_uri": "https://localhost:8080/"
        },
        "id": "knJAKl7hYQXc",
        "outputId": "e304f5f7-b0f5-48b6-f2f8-66ef4a424137"
      },
      "execution_count": 21,
      "outputs": [
        {
          "output_type": "stream",
          "name": "stdout",
          "text": [
            "main\thttps://github.com/peeti-sriwongsanguan/DrICE-TK.git (fetch)\n",
            "main\thttps://github.com/peeti-sriwongsanguan/DrICE-TK.git (push)\n"
          ]
        }
      ]
    },
    {
      "cell_type": "code",
      "source": [
        "!git status"
      ],
      "metadata": {
        "colab": {
          "base_uri": "https://localhost:8080/"
        },
        "id": "B1jD9IruY0lt",
        "outputId": "042bc527-e6d5-49c0-aea2-db96a47710d1"
      },
      "execution_count": 22,
      "outputs": [
        {
          "output_type": "stream",
          "name": "stdout",
          "text": [
            "On branch master\n",
            "\n",
            "No commits yet\n",
            "\n",
            "nothing to commit (create/copy files and use \"git add\" to track)\n"
          ]
        }
      ]
    },
    {
      "cell_type": "markdown",
      "source": [
        "# for Thai language"
      ],
      "metadata": {
        "id": "bCkKh4ECaCI-"
      }
    },
    {
      "cell_type": "code",
      "source": [
        "!pip install pythainlp scikit-learn"
      ],
      "metadata": {
        "colab": {
          "base_uri": "https://localhost:8080/"
        },
        "id": "puS8e_MCZG5j",
        "outputId": "c8d95179-d89b-42a7-d54e-e4269d62bb77"
      },
      "execution_count": 42,
      "outputs": [
        {
          "output_type": "stream",
          "name": "stdout",
          "text": [
            "Requirement already satisfied: pythainlp in /usr/local/lib/python3.10/dist-packages (5.0.4)\n",
            "Requirement already satisfied: scikit-learn in /usr/local/lib/python3.10/dist-packages (1.3.2)\n",
            "Requirement already satisfied: requests>=2.22.0 in /usr/local/lib/python3.10/dist-packages (from pythainlp) (2.32.3)\n",
            "Requirement already satisfied: numpy<2.0,>=1.17.3 in /usr/local/lib/python3.10/dist-packages (from scikit-learn) (1.26.4)\n",
            "Requirement already satisfied: scipy>=1.5.0 in /usr/local/lib/python3.10/dist-packages (from scikit-learn) (1.13.1)\n",
            "Requirement already satisfied: joblib>=1.1.1 in /usr/local/lib/python3.10/dist-packages (from scikit-learn) (1.4.2)\n",
            "Requirement already satisfied: threadpoolctl>=2.0.0 in /usr/local/lib/python3.10/dist-packages (from scikit-learn) (3.5.0)\n",
            "Requirement already satisfied: charset-normalizer<4,>=2 in /usr/local/lib/python3.10/dist-packages (from requests>=2.22.0->pythainlp) (3.3.2)\n",
            "Requirement already satisfied: idna<4,>=2.5 in /usr/local/lib/python3.10/dist-packages (from requests>=2.22.0->pythainlp) (3.7)\n",
            "Requirement already satisfied: urllib3<3,>=1.21.1 in /usr/local/lib/python3.10/dist-packages (from requests>=2.22.0->pythainlp) (2.0.7)\n",
            "Requirement already satisfied: certifi>=2017.4.17 in /usr/local/lib/python3.10/dist-packages (from requests>=2.22.0->pythainlp) (2024.7.4)\n"
          ]
        }
      ]
    },
    {
      "cell_type": "code",
      "source": [
        "import pandas as pd\n",
        "import pythainlp\n",
        "from pythainlp.corpus.common import thai_stopwords\n",
        "from collections import Counter\n",
        "from sklearn.feature_extraction.text import CountVectorizer\n",
        "from sklearn.linear_model import LinearRegression\n",
        "import numpy as np\n",
        "\n",
        "pd.set_option('display.max_columns', None)"
      ],
      "metadata": {
        "id": "Aa34zQ8Ua2ID"
      },
      "execution_count": 43,
      "outputs": []
    },
    {
      "cell_type": "code",
      "source": [
        "df = pd.read_excel('../../data/socialMedia_sample.xlsx')\n",
        "df.head()"
      ],
      "metadata": {
        "colab": {
          "base_uri": "https://localhost:8080/",
          "height": 696
        },
        "id": "A8KHUEuEaGAG",
        "outputId": "f244a435-61e5-47a4-bad9-00fe031fad72"
      },
      "execution_count": 34,
      "outputs": [
        {
          "output_type": "stream",
          "name": "stderr",
          "text": [
            "/usr/local/lib/python3.10/dist-packages/google/colab/_dataframe_summarizer.py:88: UserWarning: Could not infer format, so each element will be parsed individually, falling back to `dateutil`. To ensure parsing is consistent and as-expected, please specify a format.\n",
            "  cast_date_col = pd.to_datetime(column, errors=\"coerce\")\n"
          ]
        },
        {
          "output_type": "execute_result",
          "data": {
            "text/plain": [
              "  Date_submit Platform       account_nm   ClipID  \\\n",
              "0         NaN      NaN              NaN      NaN   \n",
              "1    16/11/66   Tiktok  Dr.Ice.Official  10001.0   \n",
              "2    16/11/66   Tiktok  Dr.Ice.Official  10002.0   \n",
              "3    16/11/66   Tiktok  Dr.Ice.Official  10003.0   \n",
              "4    17/11/66   Tiktok  Dr.Ice.Official  10004.0   \n",
              "\n",
              "                                        Name No_Viewer  clip_lenght  \\\n",
              "0                                        NaN       NaN          NaN   \n",
              "1               กินคอลลาเจนให้เห็นผลใน 7 วัน     1.1M          0.50   \n",
              "2              บูสผิวหน้าในหนึ่งคืนให้ทันเดท      8761         0.45   \n",
              "3  ถ้าหมอเลือกกินวิตามินได้ตัวเดียวจะกินอะไร    825.4k         0.47   \n",
              "4                   วิธีจัดการสิวแบบเร่งด่วน    208.3k         0.55   \n",
              "\n",
              "   avg_watch_time  %_of_engagement %_gender (Men / Woman) Unnamed: 10  \\\n",
              "0             NaN              NaN                    Men       Woman   \n",
              "1            13.2           0.0995                     18          80   \n",
              "2            11.6           0.0736                     22          77   \n",
              "3            15.2           0.1153                     26          72   \n",
              "4            17.3           0.1094                     30          70   \n",
              "\n",
              "  age_range  \n",
              "0       NaN  \n",
              "1  18 - 55+  \n",
              "2  18 - 55+  \n",
              "3  18 - 55+  \n",
              "4  18 - 55+  "
            ],
            "text/html": [
              "\n",
              "  <div id=\"df-59308059-af45-48f2-aef0-2dd67816c621\" class=\"colab-df-container\">\n",
              "    <div>\n",
              "<style scoped>\n",
              "    .dataframe tbody tr th:only-of-type {\n",
              "        vertical-align: middle;\n",
              "    }\n",
              "\n",
              "    .dataframe tbody tr th {\n",
              "        vertical-align: top;\n",
              "    }\n",
              "\n",
              "    .dataframe thead th {\n",
              "        text-align: right;\n",
              "    }\n",
              "</style>\n",
              "<table border=\"1\" class=\"dataframe\">\n",
              "  <thead>\n",
              "    <tr style=\"text-align: right;\">\n",
              "      <th></th>\n",
              "      <th>Date_submit</th>\n",
              "      <th>Platform</th>\n",
              "      <th>account_nm</th>\n",
              "      <th>ClipID</th>\n",
              "      <th>Name</th>\n",
              "      <th>No_Viewer</th>\n",
              "      <th>clip_lenght</th>\n",
              "      <th>avg_watch_time</th>\n",
              "      <th>%_of_engagement</th>\n",
              "      <th>%_gender (Men / Woman)</th>\n",
              "      <th>Unnamed: 10</th>\n",
              "      <th>age_range</th>\n",
              "    </tr>\n",
              "  </thead>\n",
              "  <tbody>\n",
              "    <tr>\n",
              "      <th>0</th>\n",
              "      <td>NaN</td>\n",
              "      <td>NaN</td>\n",
              "      <td>NaN</td>\n",
              "      <td>NaN</td>\n",
              "      <td>NaN</td>\n",
              "      <td>NaN</td>\n",
              "      <td>NaN</td>\n",
              "      <td>NaN</td>\n",
              "      <td>NaN</td>\n",
              "      <td>Men</td>\n",
              "      <td>Woman</td>\n",
              "      <td>NaN</td>\n",
              "    </tr>\n",
              "    <tr>\n",
              "      <th>1</th>\n",
              "      <td>16/11/66</td>\n",
              "      <td>Tiktok</td>\n",
              "      <td>Dr.Ice.Official</td>\n",
              "      <td>10001.0</td>\n",
              "      <td>กินคอลลาเจนให้เห็นผลใน 7 วัน</td>\n",
              "      <td>1.1M</td>\n",
              "      <td>0.50</td>\n",
              "      <td>13.2</td>\n",
              "      <td>0.0995</td>\n",
              "      <td>18</td>\n",
              "      <td>80</td>\n",
              "      <td>18 - 55+</td>\n",
              "    </tr>\n",
              "    <tr>\n",
              "      <th>2</th>\n",
              "      <td>16/11/66</td>\n",
              "      <td>Tiktok</td>\n",
              "      <td>Dr.Ice.Official</td>\n",
              "      <td>10002.0</td>\n",
              "      <td>บูสผิวหน้าในหนึ่งคืนให้ทันเดท</td>\n",
              "      <td>8761</td>\n",
              "      <td>0.45</td>\n",
              "      <td>11.6</td>\n",
              "      <td>0.0736</td>\n",
              "      <td>22</td>\n",
              "      <td>77</td>\n",
              "      <td>18 - 55+</td>\n",
              "    </tr>\n",
              "    <tr>\n",
              "      <th>3</th>\n",
              "      <td>16/11/66</td>\n",
              "      <td>Tiktok</td>\n",
              "      <td>Dr.Ice.Official</td>\n",
              "      <td>10003.0</td>\n",
              "      <td>ถ้าหมอเลือกกินวิตามินได้ตัวเดียวจะกินอะไร</td>\n",
              "      <td>825.4k</td>\n",
              "      <td>0.47</td>\n",
              "      <td>15.2</td>\n",
              "      <td>0.1153</td>\n",
              "      <td>26</td>\n",
              "      <td>72</td>\n",
              "      <td>18 - 55+</td>\n",
              "    </tr>\n",
              "    <tr>\n",
              "      <th>4</th>\n",
              "      <td>17/11/66</td>\n",
              "      <td>Tiktok</td>\n",
              "      <td>Dr.Ice.Official</td>\n",
              "      <td>10004.0</td>\n",
              "      <td>วิธีจัดการสิวแบบเร่งด่วน</td>\n",
              "      <td>208.3k</td>\n",
              "      <td>0.55</td>\n",
              "      <td>17.3</td>\n",
              "      <td>0.1094</td>\n",
              "      <td>30</td>\n",
              "      <td>70</td>\n",
              "      <td>18 - 55+</td>\n",
              "    </tr>\n",
              "  </tbody>\n",
              "</table>\n",
              "</div>\n",
              "    <div class=\"colab-df-buttons\">\n",
              "\n",
              "  <div class=\"colab-df-container\">\n",
              "    <button class=\"colab-df-convert\" onclick=\"convertToInteractive('df-59308059-af45-48f2-aef0-2dd67816c621')\"\n",
              "            title=\"Convert this dataframe to an interactive table.\"\n",
              "            style=\"display:none;\">\n",
              "\n",
              "  <svg xmlns=\"http://www.w3.org/2000/svg\" height=\"24px\" viewBox=\"0 -960 960 960\">\n",
              "    <path d=\"M120-120v-720h720v720H120Zm60-500h600v-160H180v160Zm220 220h160v-160H400v160Zm0 220h160v-160H400v160ZM180-400h160v-160H180v160Zm440 0h160v-160H620v160ZM180-180h160v-160H180v160Zm440 0h160v-160H620v160Z\"/>\n",
              "  </svg>\n",
              "    </button>\n",
              "\n",
              "  <style>\n",
              "    .colab-df-container {\n",
              "      display:flex;\n",
              "      gap: 12px;\n",
              "    }\n",
              "\n",
              "    .colab-df-convert {\n",
              "      background-color: #E8F0FE;\n",
              "      border: none;\n",
              "      border-radius: 50%;\n",
              "      cursor: pointer;\n",
              "      display: none;\n",
              "      fill: #1967D2;\n",
              "      height: 32px;\n",
              "      padding: 0 0 0 0;\n",
              "      width: 32px;\n",
              "    }\n",
              "\n",
              "    .colab-df-convert:hover {\n",
              "      background-color: #E2EBFA;\n",
              "      box-shadow: 0px 1px 2px rgba(60, 64, 67, 0.3), 0px 1px 3px 1px rgba(60, 64, 67, 0.15);\n",
              "      fill: #174EA6;\n",
              "    }\n",
              "\n",
              "    .colab-df-buttons div {\n",
              "      margin-bottom: 4px;\n",
              "    }\n",
              "\n",
              "    [theme=dark] .colab-df-convert {\n",
              "      background-color: #3B4455;\n",
              "      fill: #D2E3FC;\n",
              "    }\n",
              "\n",
              "    [theme=dark] .colab-df-convert:hover {\n",
              "      background-color: #434B5C;\n",
              "      box-shadow: 0px 1px 3px 1px rgba(0, 0, 0, 0.15);\n",
              "      filter: drop-shadow(0px 1px 2px rgba(0, 0, 0, 0.3));\n",
              "      fill: #FFFFFF;\n",
              "    }\n",
              "  </style>\n",
              "\n",
              "    <script>\n",
              "      const buttonEl =\n",
              "        document.querySelector('#df-59308059-af45-48f2-aef0-2dd67816c621 button.colab-df-convert');\n",
              "      buttonEl.style.display =\n",
              "        google.colab.kernel.accessAllowed ? 'block' : 'none';\n",
              "\n",
              "      async function convertToInteractive(key) {\n",
              "        const element = document.querySelector('#df-59308059-af45-48f2-aef0-2dd67816c621');\n",
              "        const dataTable =\n",
              "          await google.colab.kernel.invokeFunction('convertToInteractive',\n",
              "                                                    [key], {});\n",
              "        if (!dataTable) return;\n",
              "\n",
              "        const docLinkHtml = 'Like what you see? Visit the ' +\n",
              "          '<a target=\"_blank\" href=https://colab.research.google.com/notebooks/data_table.ipynb>data table notebook</a>'\n",
              "          + ' to learn more about interactive tables.';\n",
              "        element.innerHTML = '';\n",
              "        dataTable['output_type'] = 'display_data';\n",
              "        await google.colab.output.renderOutput(dataTable, element);\n",
              "        const docLink = document.createElement('div');\n",
              "        docLink.innerHTML = docLinkHtml;\n",
              "        element.appendChild(docLink);\n",
              "      }\n",
              "    </script>\n",
              "  </div>\n",
              "\n",
              "\n",
              "<div id=\"df-828f7083-373a-4b52-b676-46cabfae0fd8\">\n",
              "  <button class=\"colab-df-quickchart\" onclick=\"quickchart('df-828f7083-373a-4b52-b676-46cabfae0fd8')\"\n",
              "            title=\"Suggest charts\"\n",
              "            style=\"display:none;\">\n",
              "\n",
              "<svg xmlns=\"http://www.w3.org/2000/svg\" height=\"24px\"viewBox=\"0 0 24 24\"\n",
              "     width=\"24px\">\n",
              "    <g>\n",
              "        <path d=\"M19 3H5c-1.1 0-2 .9-2 2v14c0 1.1.9 2 2 2h14c1.1 0 2-.9 2-2V5c0-1.1-.9-2-2-2zM9 17H7v-7h2v7zm4 0h-2V7h2v10zm4 0h-2v-4h2v4z\"/>\n",
              "    </g>\n",
              "</svg>\n",
              "  </button>\n",
              "\n",
              "<style>\n",
              "  .colab-df-quickchart {\n",
              "      --bg-color: #E8F0FE;\n",
              "      --fill-color: #1967D2;\n",
              "      --hover-bg-color: #E2EBFA;\n",
              "      --hover-fill-color: #174EA6;\n",
              "      --disabled-fill-color: #AAA;\n",
              "      --disabled-bg-color: #DDD;\n",
              "  }\n",
              "\n",
              "  [theme=dark] .colab-df-quickchart {\n",
              "      --bg-color: #3B4455;\n",
              "      --fill-color: #D2E3FC;\n",
              "      --hover-bg-color: #434B5C;\n",
              "      --hover-fill-color: #FFFFFF;\n",
              "      --disabled-bg-color: #3B4455;\n",
              "      --disabled-fill-color: #666;\n",
              "  }\n",
              "\n",
              "  .colab-df-quickchart {\n",
              "    background-color: var(--bg-color);\n",
              "    border: none;\n",
              "    border-radius: 50%;\n",
              "    cursor: pointer;\n",
              "    display: none;\n",
              "    fill: var(--fill-color);\n",
              "    height: 32px;\n",
              "    padding: 0;\n",
              "    width: 32px;\n",
              "  }\n",
              "\n",
              "  .colab-df-quickchart:hover {\n",
              "    background-color: var(--hover-bg-color);\n",
              "    box-shadow: 0 1px 2px rgba(60, 64, 67, 0.3), 0 1px 3px 1px rgba(60, 64, 67, 0.15);\n",
              "    fill: var(--button-hover-fill-color);\n",
              "  }\n",
              "\n",
              "  .colab-df-quickchart-complete:disabled,\n",
              "  .colab-df-quickchart-complete:disabled:hover {\n",
              "    background-color: var(--disabled-bg-color);\n",
              "    fill: var(--disabled-fill-color);\n",
              "    box-shadow: none;\n",
              "  }\n",
              "\n",
              "  .colab-df-spinner {\n",
              "    border: 2px solid var(--fill-color);\n",
              "    border-color: transparent;\n",
              "    border-bottom-color: var(--fill-color);\n",
              "    animation:\n",
              "      spin 1s steps(1) infinite;\n",
              "  }\n",
              "\n",
              "  @keyframes spin {\n",
              "    0% {\n",
              "      border-color: transparent;\n",
              "      border-bottom-color: var(--fill-color);\n",
              "      border-left-color: var(--fill-color);\n",
              "    }\n",
              "    20% {\n",
              "      border-color: transparent;\n",
              "      border-left-color: var(--fill-color);\n",
              "      border-top-color: var(--fill-color);\n",
              "    }\n",
              "    30% {\n",
              "      border-color: transparent;\n",
              "      border-left-color: var(--fill-color);\n",
              "      border-top-color: var(--fill-color);\n",
              "      border-right-color: var(--fill-color);\n",
              "    }\n",
              "    40% {\n",
              "      border-color: transparent;\n",
              "      border-right-color: var(--fill-color);\n",
              "      border-top-color: var(--fill-color);\n",
              "    }\n",
              "    60% {\n",
              "      border-color: transparent;\n",
              "      border-right-color: var(--fill-color);\n",
              "    }\n",
              "    80% {\n",
              "      border-color: transparent;\n",
              "      border-right-color: var(--fill-color);\n",
              "      border-bottom-color: var(--fill-color);\n",
              "    }\n",
              "    90% {\n",
              "      border-color: transparent;\n",
              "      border-bottom-color: var(--fill-color);\n",
              "    }\n",
              "  }\n",
              "</style>\n",
              "\n",
              "  <script>\n",
              "    async function quickchart(key) {\n",
              "      const quickchartButtonEl =\n",
              "        document.querySelector('#' + key + ' button');\n",
              "      quickchartButtonEl.disabled = true;  // To prevent multiple clicks.\n",
              "      quickchartButtonEl.classList.add('colab-df-spinner');\n",
              "      try {\n",
              "        const charts = await google.colab.kernel.invokeFunction(\n",
              "            'suggestCharts', [key], {});\n",
              "      } catch (error) {\n",
              "        console.error('Error during call to suggestCharts:', error);\n",
              "      }\n",
              "      quickchartButtonEl.classList.remove('colab-df-spinner');\n",
              "      quickchartButtonEl.classList.add('colab-df-quickchart-complete');\n",
              "    }\n",
              "    (() => {\n",
              "      let quickchartButtonEl =\n",
              "        document.querySelector('#df-828f7083-373a-4b52-b676-46cabfae0fd8 button');\n",
              "      quickchartButtonEl.style.display =\n",
              "        google.colab.kernel.accessAllowed ? 'block' : 'none';\n",
              "    })();\n",
              "  </script>\n",
              "</div>\n",
              "\n",
              "    </div>\n",
              "  </div>\n"
            ],
            "application/vnd.google.colaboratory.intrinsic+json": {
              "type": "dataframe",
              "variable_name": "df",
              "summary": "{\n  \"name\": \"df\",\n  \"rows\": 148,\n  \"fields\": [\n    {\n      \"column\": \"Date_submit\",\n      \"properties\": {\n        \"dtype\": \"date\",\n        \"min\": \"1966-01-12 00:00:00\",\n        \"max\": \"2067-01-31 00:00:00\",\n        \"num_unique_values\": 76,\n        \"samples\": [\n          \"20/11/66\",\n          \"21/12/66\",\n          \"26/11/66\"\n        ],\n        \"semantic_type\": \"\",\n        \"description\": \"\"\n      }\n    },\n    {\n      \"column\": \"Platform\",\n      \"properties\": {\n        \"dtype\": \"category\",\n        \"num_unique_values\": 1,\n        \"samples\": [\n          \"Tiktok\"\n        ],\n        \"semantic_type\": \"\",\n        \"description\": \"\"\n      }\n    },\n    {\n      \"column\": \"account_nm\",\n      \"properties\": {\n        \"dtype\": \"category\",\n        \"num_unique_values\": 1,\n        \"samples\": [\n          \"Dr.Ice.Official\"\n        ],\n        \"semantic_type\": \"\",\n        \"description\": \"\"\n      }\n    },\n    {\n      \"column\": \"ClipID\",\n      \"properties\": {\n        \"dtype\": \"number\",\n        \"std\": 42.579337712087536,\n        \"min\": 10001.0,\n        \"max\": 10147.0,\n        \"num_unique_values\": 147,\n        \"samples\": [\n          10126.0\n        ],\n        \"semantic_type\": \"\",\n        \"description\": \"\"\n      }\n    },\n    {\n      \"column\": \"Name\",\n      \"properties\": {\n        \"dtype\": \"string\",\n        \"num_unique_values\": 147,\n        \"samples\": [\n          \"\\u0e09\\u0e35\\u0e14 Exosomes \\u0e17\\u0e33\\u0e44\\u0e21\\u0e16\\u0e36\\u0e07\\u0e40\\u0e1b\\u0e47\\u0e19\\u0e17\\u0e35\\u0e48\\u0e19\\u0e34\\u0e22\\u0e21\"\n        ],\n        \"semantic_type\": \"\",\n        \"description\": \"\"\n      }\n    },\n    {\n      \"column\": \"No_Viewer\",\n      \"properties\": {\n        \"dtype\": \"string\",\n        \"num_unique_values\": 138,\n        \"samples\": [\n          \"29.8k\"\n        ],\n        \"semantic_type\": \"\",\n        \"description\": \"\"\n      }\n    },\n    {\n      \"column\": \"clip_lenght\",\n      \"properties\": {\n        \"dtype\": \"number\",\n        \"std\": 0.07480119957357685,\n        \"min\": 0.34,\n        \"max\": 1.22,\n        \"num_unique_values\": 23,\n        \"samples\": [\n          0.57\n        ],\n        \"semantic_type\": \"\",\n        \"description\": \"\"\n      }\n    },\n    {\n      \"column\": \"avg_watch_time\",\n      \"properties\": {\n        \"dtype\": \"number\",\n        \"std\": 2.9110637638916335,\n        \"min\": 2.2,\n        \"max\": 21.1,\n        \"num_unique_values\": 81,\n        \"samples\": [\n          9.9\n        ],\n        \"semantic_type\": \"\",\n        \"description\": \"\"\n      }\n    },\n    {\n      \"column\": \"%_of_engagement\",\n      \"properties\": {\n        \"dtype\": \"number\",\n        \"std\": 0.03178544107419393,\n        \"min\": 0.0044,\n        \"max\": 0.1758,\n        \"num_unique_values\": 138,\n        \"samples\": [\n          0.0918\n        ],\n        \"semantic_type\": \"\",\n        \"description\": \"\"\n      }\n    },\n    {\n      \"column\": \"%_gender (Men / Woman)\",\n      \"properties\": {\n        \"dtype\": \"category\",\n        \"num_unique_values\": 27,\n        \"samples\": [\n          19\n        ],\n        \"semantic_type\": \"\",\n        \"description\": \"\"\n      }\n    },\n    {\n      \"column\": \"Unnamed: 10\",\n      \"properties\": {\n        \"dtype\": \"category\",\n        \"num_unique_values\": 27,\n        \"samples\": [\n          76\n        ],\n        \"semantic_type\": \"\",\n        \"description\": \"\"\n      }\n    },\n    {\n      \"column\": \"age_range\",\n      \"properties\": {\n        \"dtype\": \"category\",\n        \"num_unique_values\": 1,\n        \"samples\": [\n          \"18 - 55+\"\n        ],\n        \"semantic_type\": \"\",\n        \"description\": \"\"\n      }\n    }\n  ]\n}"
            }
          },
          "metadata": {},
          "execution_count": 34
        }
      ]
    },
    {
      "cell_type": "code",
      "source": [
        "df.rename(columns = {'%_gender (Men / Woman)':'male',\n",
        "                     'Unnamed: 10':'female'}, inplace = True)\n",
        "df = df.iloc[1:,:]\n",
        "df.head()"
      ],
      "metadata": {
        "colab": {
          "base_uri": "https://localhost:8080/",
          "height": 695
        },
        "id": "zN5Gpfmoaoih",
        "outputId": "3fba0b8c-3c8d-4486-a238-51c1a2918d7a"
      },
      "execution_count": 37,
      "outputs": [
        {
          "output_type": "execute_result",
          "data": {
            "text/plain": [
              "  Date_submit Platform       account_nm   ClipID  \\\n",
              "1    16/11/66   Tiktok  Dr.Ice.Official  10001.0   \n",
              "2    16/11/66   Tiktok  Dr.Ice.Official  10002.0   \n",
              "3    16/11/66   Tiktok  Dr.Ice.Official  10003.0   \n",
              "4    17/11/66   Tiktok  Dr.Ice.Official  10004.0   \n",
              "5    17/11/66   Tiktok  Dr.Ice.Official  10005.0   \n",
              "\n",
              "                                        Name No_Viewer  clip_lenght  \\\n",
              "1               กินคอลลาเจนให้เห็นผลใน 7 วัน     1.1M          0.50   \n",
              "2              บูสผิวหน้าในหนึ่งคืนให้ทันเดท      8761         0.45   \n",
              "3  ถ้าหมอเลือกกินวิตามินได้ตัวเดียวจะกินอะไร    825.4k         0.47   \n",
              "4                   วิธีจัดการสิวแบบเร่งด่วน    208.3k         0.55   \n",
              "5               วิธีกระชับรูขุมขนที่หมอแนะนำ     23.2k         0.41   \n",
              "\n",
              "   avg_watch_time  %_of_engagement male female age_range  \n",
              "1            13.2           0.0995   18     80  18 - 55+  \n",
              "2            11.6           0.0736   22     77  18 - 55+  \n",
              "3            15.2           0.1153   26     72  18 - 55+  \n",
              "4            17.3           0.1094   30     70  18 - 55+  \n",
              "5            14.0           0.1748   26     73  18 - 55+  "
            ],
            "text/html": [
              "\n",
              "  <div id=\"df-151320b5-79f0-4cc4-b789-f5fbfdb527e3\" class=\"colab-df-container\">\n",
              "    <div>\n",
              "<style scoped>\n",
              "    .dataframe tbody tr th:only-of-type {\n",
              "        vertical-align: middle;\n",
              "    }\n",
              "\n",
              "    .dataframe tbody tr th {\n",
              "        vertical-align: top;\n",
              "    }\n",
              "\n",
              "    .dataframe thead th {\n",
              "        text-align: right;\n",
              "    }\n",
              "</style>\n",
              "<table border=\"1\" class=\"dataframe\">\n",
              "  <thead>\n",
              "    <tr style=\"text-align: right;\">\n",
              "      <th></th>\n",
              "      <th>Date_submit</th>\n",
              "      <th>Platform</th>\n",
              "      <th>account_nm</th>\n",
              "      <th>ClipID</th>\n",
              "      <th>Name</th>\n",
              "      <th>No_Viewer</th>\n",
              "      <th>clip_lenght</th>\n",
              "      <th>avg_watch_time</th>\n",
              "      <th>%_of_engagement</th>\n",
              "      <th>male</th>\n",
              "      <th>female</th>\n",
              "      <th>age_range</th>\n",
              "    </tr>\n",
              "  </thead>\n",
              "  <tbody>\n",
              "    <tr>\n",
              "      <th>1</th>\n",
              "      <td>16/11/66</td>\n",
              "      <td>Tiktok</td>\n",
              "      <td>Dr.Ice.Official</td>\n",
              "      <td>10001.0</td>\n",
              "      <td>กินคอลลาเจนให้เห็นผลใน 7 วัน</td>\n",
              "      <td>1.1M</td>\n",
              "      <td>0.50</td>\n",
              "      <td>13.2</td>\n",
              "      <td>0.0995</td>\n",
              "      <td>18</td>\n",
              "      <td>80</td>\n",
              "      <td>18 - 55+</td>\n",
              "    </tr>\n",
              "    <tr>\n",
              "      <th>2</th>\n",
              "      <td>16/11/66</td>\n",
              "      <td>Tiktok</td>\n",
              "      <td>Dr.Ice.Official</td>\n",
              "      <td>10002.0</td>\n",
              "      <td>บูสผิวหน้าในหนึ่งคืนให้ทันเดท</td>\n",
              "      <td>8761</td>\n",
              "      <td>0.45</td>\n",
              "      <td>11.6</td>\n",
              "      <td>0.0736</td>\n",
              "      <td>22</td>\n",
              "      <td>77</td>\n",
              "      <td>18 - 55+</td>\n",
              "    </tr>\n",
              "    <tr>\n",
              "      <th>3</th>\n",
              "      <td>16/11/66</td>\n",
              "      <td>Tiktok</td>\n",
              "      <td>Dr.Ice.Official</td>\n",
              "      <td>10003.0</td>\n",
              "      <td>ถ้าหมอเลือกกินวิตามินได้ตัวเดียวจะกินอะไร</td>\n",
              "      <td>825.4k</td>\n",
              "      <td>0.47</td>\n",
              "      <td>15.2</td>\n",
              "      <td>0.1153</td>\n",
              "      <td>26</td>\n",
              "      <td>72</td>\n",
              "      <td>18 - 55+</td>\n",
              "    </tr>\n",
              "    <tr>\n",
              "      <th>4</th>\n",
              "      <td>17/11/66</td>\n",
              "      <td>Tiktok</td>\n",
              "      <td>Dr.Ice.Official</td>\n",
              "      <td>10004.0</td>\n",
              "      <td>วิธีจัดการสิวแบบเร่งด่วน</td>\n",
              "      <td>208.3k</td>\n",
              "      <td>0.55</td>\n",
              "      <td>17.3</td>\n",
              "      <td>0.1094</td>\n",
              "      <td>30</td>\n",
              "      <td>70</td>\n",
              "      <td>18 - 55+</td>\n",
              "    </tr>\n",
              "    <tr>\n",
              "      <th>5</th>\n",
              "      <td>17/11/66</td>\n",
              "      <td>Tiktok</td>\n",
              "      <td>Dr.Ice.Official</td>\n",
              "      <td>10005.0</td>\n",
              "      <td>วิธีกระชับรูขุมขนที่หมอแนะนำ</td>\n",
              "      <td>23.2k</td>\n",
              "      <td>0.41</td>\n",
              "      <td>14.0</td>\n",
              "      <td>0.1748</td>\n",
              "      <td>26</td>\n",
              "      <td>73</td>\n",
              "      <td>18 - 55+</td>\n",
              "    </tr>\n",
              "  </tbody>\n",
              "</table>\n",
              "</div>\n",
              "    <div class=\"colab-df-buttons\">\n",
              "\n",
              "  <div class=\"colab-df-container\">\n",
              "    <button class=\"colab-df-convert\" onclick=\"convertToInteractive('df-151320b5-79f0-4cc4-b789-f5fbfdb527e3')\"\n",
              "            title=\"Convert this dataframe to an interactive table.\"\n",
              "            style=\"display:none;\">\n",
              "\n",
              "  <svg xmlns=\"http://www.w3.org/2000/svg\" height=\"24px\" viewBox=\"0 -960 960 960\">\n",
              "    <path d=\"M120-120v-720h720v720H120Zm60-500h600v-160H180v160Zm220 220h160v-160H400v160Zm0 220h160v-160H400v160ZM180-400h160v-160H180v160Zm440 0h160v-160H620v160ZM180-180h160v-160H180v160Zm440 0h160v-160H620v160Z\"/>\n",
              "  </svg>\n",
              "    </button>\n",
              "\n",
              "  <style>\n",
              "    .colab-df-container {\n",
              "      display:flex;\n",
              "      gap: 12px;\n",
              "    }\n",
              "\n",
              "    .colab-df-convert {\n",
              "      background-color: #E8F0FE;\n",
              "      border: none;\n",
              "      border-radius: 50%;\n",
              "      cursor: pointer;\n",
              "      display: none;\n",
              "      fill: #1967D2;\n",
              "      height: 32px;\n",
              "      padding: 0 0 0 0;\n",
              "      width: 32px;\n",
              "    }\n",
              "\n",
              "    .colab-df-convert:hover {\n",
              "      background-color: #E2EBFA;\n",
              "      box-shadow: 0px 1px 2px rgba(60, 64, 67, 0.3), 0px 1px 3px 1px rgba(60, 64, 67, 0.15);\n",
              "      fill: #174EA6;\n",
              "    }\n",
              "\n",
              "    .colab-df-buttons div {\n",
              "      margin-bottom: 4px;\n",
              "    }\n",
              "\n",
              "    [theme=dark] .colab-df-convert {\n",
              "      background-color: #3B4455;\n",
              "      fill: #D2E3FC;\n",
              "    }\n",
              "\n",
              "    [theme=dark] .colab-df-convert:hover {\n",
              "      background-color: #434B5C;\n",
              "      box-shadow: 0px 1px 3px 1px rgba(0, 0, 0, 0.15);\n",
              "      filter: drop-shadow(0px 1px 2px rgba(0, 0, 0, 0.3));\n",
              "      fill: #FFFFFF;\n",
              "    }\n",
              "  </style>\n",
              "\n",
              "    <script>\n",
              "      const buttonEl =\n",
              "        document.querySelector('#df-151320b5-79f0-4cc4-b789-f5fbfdb527e3 button.colab-df-convert');\n",
              "      buttonEl.style.display =\n",
              "        google.colab.kernel.accessAllowed ? 'block' : 'none';\n",
              "\n",
              "      async function convertToInteractive(key) {\n",
              "        const element = document.querySelector('#df-151320b5-79f0-4cc4-b789-f5fbfdb527e3');\n",
              "        const dataTable =\n",
              "          await google.colab.kernel.invokeFunction('convertToInteractive',\n",
              "                                                    [key], {});\n",
              "        if (!dataTable) return;\n",
              "\n",
              "        const docLinkHtml = 'Like what you see? Visit the ' +\n",
              "          '<a target=\"_blank\" href=https://colab.research.google.com/notebooks/data_table.ipynb>data table notebook</a>'\n",
              "          + ' to learn more about interactive tables.';\n",
              "        element.innerHTML = '';\n",
              "        dataTable['output_type'] = 'display_data';\n",
              "        await google.colab.output.renderOutput(dataTable, element);\n",
              "        const docLink = document.createElement('div');\n",
              "        docLink.innerHTML = docLinkHtml;\n",
              "        element.appendChild(docLink);\n",
              "      }\n",
              "    </script>\n",
              "  </div>\n",
              "\n",
              "\n",
              "<div id=\"df-a577b149-fbc1-4cb9-93ea-decf422db9a4\">\n",
              "  <button class=\"colab-df-quickchart\" onclick=\"quickchart('df-a577b149-fbc1-4cb9-93ea-decf422db9a4')\"\n",
              "            title=\"Suggest charts\"\n",
              "            style=\"display:none;\">\n",
              "\n",
              "<svg xmlns=\"http://www.w3.org/2000/svg\" height=\"24px\"viewBox=\"0 0 24 24\"\n",
              "     width=\"24px\">\n",
              "    <g>\n",
              "        <path d=\"M19 3H5c-1.1 0-2 .9-2 2v14c0 1.1.9 2 2 2h14c1.1 0 2-.9 2-2V5c0-1.1-.9-2-2-2zM9 17H7v-7h2v7zm4 0h-2V7h2v10zm4 0h-2v-4h2v4z\"/>\n",
              "    </g>\n",
              "</svg>\n",
              "  </button>\n",
              "\n",
              "<style>\n",
              "  .colab-df-quickchart {\n",
              "      --bg-color: #E8F0FE;\n",
              "      --fill-color: #1967D2;\n",
              "      --hover-bg-color: #E2EBFA;\n",
              "      --hover-fill-color: #174EA6;\n",
              "      --disabled-fill-color: #AAA;\n",
              "      --disabled-bg-color: #DDD;\n",
              "  }\n",
              "\n",
              "  [theme=dark] .colab-df-quickchart {\n",
              "      --bg-color: #3B4455;\n",
              "      --fill-color: #D2E3FC;\n",
              "      --hover-bg-color: #434B5C;\n",
              "      --hover-fill-color: #FFFFFF;\n",
              "      --disabled-bg-color: #3B4455;\n",
              "      --disabled-fill-color: #666;\n",
              "  }\n",
              "\n",
              "  .colab-df-quickchart {\n",
              "    background-color: var(--bg-color);\n",
              "    border: none;\n",
              "    border-radius: 50%;\n",
              "    cursor: pointer;\n",
              "    display: none;\n",
              "    fill: var(--fill-color);\n",
              "    height: 32px;\n",
              "    padding: 0;\n",
              "    width: 32px;\n",
              "  }\n",
              "\n",
              "  .colab-df-quickchart:hover {\n",
              "    background-color: var(--hover-bg-color);\n",
              "    box-shadow: 0 1px 2px rgba(60, 64, 67, 0.3), 0 1px 3px 1px rgba(60, 64, 67, 0.15);\n",
              "    fill: var(--button-hover-fill-color);\n",
              "  }\n",
              "\n",
              "  .colab-df-quickchart-complete:disabled,\n",
              "  .colab-df-quickchart-complete:disabled:hover {\n",
              "    background-color: var(--disabled-bg-color);\n",
              "    fill: var(--disabled-fill-color);\n",
              "    box-shadow: none;\n",
              "  }\n",
              "\n",
              "  .colab-df-spinner {\n",
              "    border: 2px solid var(--fill-color);\n",
              "    border-color: transparent;\n",
              "    border-bottom-color: var(--fill-color);\n",
              "    animation:\n",
              "      spin 1s steps(1) infinite;\n",
              "  }\n",
              "\n",
              "  @keyframes spin {\n",
              "    0% {\n",
              "      border-color: transparent;\n",
              "      border-bottom-color: var(--fill-color);\n",
              "      border-left-color: var(--fill-color);\n",
              "    }\n",
              "    20% {\n",
              "      border-color: transparent;\n",
              "      border-left-color: var(--fill-color);\n",
              "      border-top-color: var(--fill-color);\n",
              "    }\n",
              "    30% {\n",
              "      border-color: transparent;\n",
              "      border-left-color: var(--fill-color);\n",
              "      border-top-color: var(--fill-color);\n",
              "      border-right-color: var(--fill-color);\n",
              "    }\n",
              "    40% {\n",
              "      border-color: transparent;\n",
              "      border-right-color: var(--fill-color);\n",
              "      border-top-color: var(--fill-color);\n",
              "    }\n",
              "    60% {\n",
              "      border-color: transparent;\n",
              "      border-right-color: var(--fill-color);\n",
              "    }\n",
              "    80% {\n",
              "      border-color: transparent;\n",
              "      border-right-color: var(--fill-color);\n",
              "      border-bottom-color: var(--fill-color);\n",
              "    }\n",
              "    90% {\n",
              "      border-color: transparent;\n",
              "      border-bottom-color: var(--fill-color);\n",
              "    }\n",
              "  }\n",
              "</style>\n",
              "\n",
              "  <script>\n",
              "    async function quickchart(key) {\n",
              "      const quickchartButtonEl =\n",
              "        document.querySelector('#' + key + ' button');\n",
              "      quickchartButtonEl.disabled = true;  // To prevent multiple clicks.\n",
              "      quickchartButtonEl.classList.add('colab-df-spinner');\n",
              "      try {\n",
              "        const charts = await google.colab.kernel.invokeFunction(\n",
              "            'suggestCharts', [key], {});\n",
              "      } catch (error) {\n",
              "        console.error('Error during call to suggestCharts:', error);\n",
              "      }\n",
              "      quickchartButtonEl.classList.remove('colab-df-spinner');\n",
              "      quickchartButtonEl.classList.add('colab-df-quickchart-complete');\n",
              "    }\n",
              "    (() => {\n",
              "      let quickchartButtonEl =\n",
              "        document.querySelector('#df-a577b149-fbc1-4cb9-93ea-decf422db9a4 button');\n",
              "      quickchartButtonEl.style.display =\n",
              "        google.colab.kernel.accessAllowed ? 'block' : 'none';\n",
              "    })();\n",
              "  </script>\n",
              "</div>\n",
              "\n",
              "    </div>\n",
              "  </div>\n"
            ],
            "application/vnd.google.colaboratory.intrinsic+json": {
              "type": "dataframe",
              "variable_name": "df",
              "repr_error": "0"
            }
          },
          "metadata": {},
          "execution_count": 37
        }
      ]
    },
    {
      "cell_type": "markdown",
      "source": [
        "**Preprocessing:** Tokenize the text, remove stopwords and spaces, and create a bag-of-words representation."
      ],
      "metadata": {
        "id": "B5TH8Nb4e0ZR"
      }
    },
    {
      "cell_type": "code",
      "source": [
        "# Tokenize the 'Name' column\n",
        "df['Tokenized_Name'] = df['Name'].apply(pythainlp.word_tokenize)\n",
        "# df.head()\n",
        "# Define a set of Thai stopwords and remove them along with spaces\n",
        "stopwords = set(thai_stopwords())\n",
        "filtered_tokens = [\n",
        "    token for tokens in df['Tokenized_Name'] for token in tokens\n",
        "    if token not in stopwords and token != ' '\n",
        "]\n",
        "# # Flatten the list of tokens and count word frequencies\n",
        "# all_tokens = [token for tokens in df['Tokenized_Name'] for token in tokens]\n",
        "word_freq = Counter(filtered_tokens)\n",
        "\n",
        "# Display the most common words\n",
        "print(word_freq.most_common(10))"
      ],
      "metadata": {
        "colab": {
          "base_uri": "https://localhost:8080/"
        },
        "id": "uANrhAS4byCF",
        "outputId": "7619e4ac-e390-4a36-a3a9-d2c294e2e193"
      },
      "execution_count": 41,
      "outputs": [
        {
          "output_type": "stream",
          "name": "stdout",
          "text": [
            "[('กิน', 21), ('หมอ', 21), ('ทำ', 15), ('รีวิว', 12), ('ไหม', 12), ('ตัว', 11), ('ผิว', 11), ('หน้า', 11), ('สิว', 10), ('แนะนำ', 9)]\n"
          ]
        }
      ]
    },
    {
      "cell_type": "code",
      "source": [
        "df['Tokenized_Name'] = df['Name'].apply(\n",
        "    lambda x: [token for token in pythainlp.word_tokenize(x) if token not in stopwords and token != ' ']\n",
        ")\n",
        "\n",
        "# Convert the tokenized names back to a single string for vectorization\n",
        "df['Processed_Name'] = df['Tokenized_Name'].apply(lambda x: ' '.join(x))\n",
        "\n",
        "# Use CountVectorizer to create a bag-of-words model\n",
        "# Vectorization: The CountVectorizer converts the processed text into a matrix of word frequencies.\n",
        "vectorizer = CountVectorizer()\n",
        "X = vectorizer.fit_transform(df['Processed_Name'])\n",
        "\n"
      ],
      "metadata": {
        "id": "OCQbfaG4cG3y"
      },
      "execution_count": 48,
      "outputs": []
    },
    {
      "cell_type": "markdown",
      "source": [
        "Ensure 'No_Viewer' is in the correct format"
      ],
      "metadata": {
        "id": "hTbgdu7Se894"
      }
    },
    {
      "cell_type": "code",
      "source": [
        "\n",
        "def convert_viewers(viewers):\n",
        "    if isinstance(viewers, (int, float)):\n",
        "        return viewers\n",
        "    if pd.isna(viewers):\n",
        "        return None\n",
        "    if 'M' in viewers:\n",
        "        return float(viewers.replace('M', '')) * 1_000_000\n",
        "    if 'k' in viewers:\n",
        "        return float(viewers.replace('k', '')) * 1_000\n",
        "    return float(viewers)\n",
        "\n",
        "df['No_Viewer'] = df['No_Viewer'].apply(convert_viewers)\n",
        "df['No_Viewer'].values.tolist()[:10]"
      ],
      "metadata": {
        "colab": {
          "base_uri": "https://localhost:8080/"
        },
        "id": "z1v_PN4Pe5Gn",
        "outputId": "cca9c3f8-6a08-4bb9-c5bc-a9c25db4ac54"
      },
      "execution_count": 49,
      "outputs": [
        {
          "output_type": "execute_result",
          "data": {
            "text/plain": [
              "[1100000.0,\n",
              " 8761.0,\n",
              " 825400.0,\n",
              " 208300.0,\n",
              " 23200.0,\n",
              " 289100.0,\n",
              " 1000000.0,\n",
              " 1900000.0,\n",
              " 815800.0,\n",
              " 8347.0]"
            ]
          },
          "metadata": {},
          "execution_count": 49
        }
      ]
    },
    {
      "cell_type": "markdown",
      "source": [
        "**Feature Engineering:** Convert the text data into numerical features (using the frequency of each word)."
      ],
      "metadata": {
        "id": "8zJlWJoHfTa-"
      }
    },
    {
      "cell_type": "code",
      "source": [
        "# Prepare the target variable\n",
        "y = df['No_Viewer'].values"
      ],
      "metadata": {
        "id": "iunKWfitfYeR"
      },
      "execution_count": 50,
      "outputs": []
    },
    {
      "cell_type": "markdown",
      "source": [
        "**Modeling:** Use a regression model to predict the *No_Viewer* count based on the word frequencies.\n",
        "\n",
        "Regression Model: A linear regression model is used to find the relationship between the word frequencies and the No_Viewer count."
      ],
      "metadata": {
        "id": "tOuH7D1ceiz7"
      }
    },
    {
      "cell_type": "code",
      "source": [
        "# Fit a linear regression model\n",
        "# Regression Model: A linear regression model is used to find the relationship between\n",
        "# the word frequencies and the No_Viewer count.\n",
        "model = LinearRegression()\n",
        "model.fit(X, y)\n",
        "\n",
        "# Get the coefficients of the model\n",
        "coefficients = model.coef_\n",
        "feature_names = vectorizer.get_feature_names_out()\n",
        "\n",
        "# Create a DataFrame to show the importance of each word\n",
        "importance = pd.DataFrame({\n",
        "    'Word': feature_names,\n",
        "    'Coefficient': coefficients\n",
        "})\n",
        "\n",
        "# Sort by the absolute value of the coefficients to see which words have the most impact\n",
        "importance['Absolute_Coefficient'] = importance['Coefficient'].abs()\n",
        "importance_sorted = importance.sort_values(by='Absolute_Coefficient', ascending=False)\n",
        "\n",
        "# Display the top 10 words impacting the 'No_Viewer' count\n",
        "print(importance_sorted.head(10))"
      ],
      "metadata": {
        "colab": {
          "base_uri": "https://localhost:8080/"
        },
        "id": "i9AewsqJffUg",
        "outputId": "56d09ca7-576d-42a2-b7c0-b533ecbb7e0b"
      },
      "execution_count": 51,
      "outputs": [
        {
          "output_type": "stream",
          "name": "stdout",
          "text": [
            "         Word   Coefficient  Absolute_Coefficient\n",
            "54       olay  1.668393e+06          1.668393e+06\n",
            "3          24  1.668393e+06          1.668393e+06\n",
            "58    retinol  1.500168e+06          1.500168e+06\n",
            "170        มก  1.122044e+06          1.122044e+06\n",
            "171       มขน -1.116056e+06          1.116056e+06\n",
            "129        ทา -1.106288e+06          1.106288e+06\n",
            "102  คอลลาเจน  1.067405e+06          1.067405e+06\n",
            "297     แนะนำ  1.028809e+06          1.028809e+06\n",
            "315       โฟม  9.925962e+05          9.925962e+05\n",
            "161        ผล  7.955966e+05          7.955966e+05\n"
          ]
        }
      ]
    },
    {
      "cell_type": "markdown",
      "source": [
        "**Feature Importance:** The coefficients of the linear regression model indicate the impact of each word on the *No_Viewer* count. The higher the absolute value of a coefficient, the greater the impact."
      ],
      "metadata": {
        "id": "VxLvY6P3gZ4w"
      }
    },
    {
      "cell_type": "code",
      "source": [
        "!git branch"
      ],
      "metadata": {
        "id": "00uDoiKChgeN"
      },
      "execution_count": 74,
      "outputs": []
    },
    {
      "cell_type": "code",
      "source": [
        "!git branch -M main"
      ],
      "metadata": {
        "id": "jbEOIZWmhvoc"
      },
      "execution_count": 71,
      "outputs": []
    },
    {
      "cell_type": "code",
      "source": [
        "!git push --set-upstream main main"
      ],
      "metadata": {
        "colab": {
          "base_uri": "https://localhost:8080/"
        },
        "id": "UyWC7BQBhntT",
        "outputId": "7d23017c-88e2-42f0-d73a-355bf1f5c95b"
      },
      "execution_count": 70,
      "outputs": [
        {
          "output_type": "stream",
          "name": "stdout",
          "text": [
            "error: src refspec main does not match any\n",
            "\u001b[31merror: failed to push some refs to 'https://github.com/peeti-sriwongsanguan/DrICE-TK.git'\n",
            "\u001b[m"
          ]
        }
      ]
    },
    {
      "cell_type": "code",
      "source": [
        "!git checkout -b main"
      ],
      "metadata": {
        "colab": {
          "base_uri": "https://localhost:8080/"
        },
        "id": "_70TMy_EfrxR",
        "outputId": "235d8514-9ada-48d5-ed3b-8db62322b64b"
      },
      "execution_count": 55,
      "outputs": [
        {
          "output_type": "stream",
          "name": "stdout",
          "text": [
            "Switched to a new branch 'main'\n"
          ]
        }
      ]
    },
    {
      "cell_type": "code",
      "source": [
        "!git status"
      ],
      "metadata": {
        "colab": {
          "base_uri": "https://localhost:8080/"
        },
        "id": "sfL19UAhgfml",
        "outputId": "488f1365-0559-4c1c-c1de-2ca092a8a92d"
      },
      "execution_count": 56,
      "outputs": [
        {
          "output_type": "stream",
          "name": "stdout",
          "text": [
            "On branch main\n",
            "\n",
            "No commits yet\n",
            "\n",
            "nothing to commit (create/copy files and use \"git add\" to track)\n"
          ]
        }
      ]
    },
    {
      "cell_type": "code",
      "source": [
        "ls -a .git/"
      ],
      "metadata": {
        "colab": {
          "base_uri": "https://localhost:8080/"
        },
        "id": "EP-TckpSglGj",
        "outputId": "a0310e12-4a92-4dc1-89b9-ff2046273da4"
      },
      "execution_count": 61,
      "outputs": [
        {
          "output_type": "stream",
          "name": "stdout",
          "text": [
            "\u001b[0m\u001b[01;34mbranches\u001b[0m/  config  description  HEAD  \u001b[01;34mhooks\u001b[0m/  \u001b[01;34minfo\u001b[0m/  \u001b[01;34mobjects\u001b[0m/  \u001b[01;34mrefs\u001b[0m/\n"
          ]
        }
      ]
    },
    {
      "cell_type": "code",
      "source": [
        "!git push -u main main"
      ],
      "metadata": {
        "colab": {
          "base_uri": "https://localhost:8080/"
        },
        "id": "zLdmOsGtgynn",
        "outputId": "ba93b70d-e687-4179-c7e1-1338db573553"
      },
      "execution_count": 66,
      "outputs": [
        {
          "output_type": "stream",
          "name": "stdout",
          "text": [
            "error: src refspec main does not match any\n",
            "\u001b[31merror: failed to push some refs to 'https://github.com/peeti-sriwongsanguan/DrICE-TK.git'\n",
            "\u001b[m"
          ]
        }
      ]
    },
    {
      "cell_type": "code",
      "source": [
        "ls -a .git/"
      ],
      "metadata": {
        "colab": {
          "base_uri": "https://localhost:8080/"
        },
        "id": "cLzONXTrhLX2",
        "outputId": "42efe5b8-e134-489e-d246-5075db0b3f86"
      },
      "execution_count": 86,
      "outputs": [
        {
          "output_type": "stream",
          "name": "stdout",
          "text": [
            "\u001b[0m\u001b[01;34mbranches\u001b[0m/  COMMIT_EDITMSG  config  description  HEAD  \u001b[01;34mhooks\u001b[0m/  index  \u001b[01;34minfo\u001b[0m/  \u001b[01;34mobjects\u001b[0m/  \u001b[01;34mrefs\u001b[0m/\n"
          ]
        }
      ]
    },
    {
      "cell_type": "code",
      "source": [],
      "metadata": {
        "id": "zOuitM23kFyJ"
      },
      "execution_count": null,
      "outputs": []
    }
  ]
}